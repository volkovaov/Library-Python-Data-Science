{
 "cells": [
  {
   "cell_type": "code",
   "execution_count": 2,
   "metadata": {},
   "outputs": [],
   "source": [
    "import numpy as np"
   ]
  },
  {
   "cell_type": "code",
   "execution_count": null,
   "metadata": {},
   "outputs": [],
   "source": [
    "#Задание №1"
   ]
  },
  {
   "cell_type": "code",
   "execution_count": 30,
   "metadata": {},
   "outputs": [
    {
     "name": "stdout",
     "output_type": "stream",
     "text": [
      "Исходный массив:\n",
      "[[ 1  2]\n",
      " [ 3  3]\n",
      " [ 1  6]\n",
      " [ 8 11]\n",
      " [10  7]]\n",
      "Средние значения признаков:\n",
      "[4.6 5.8]\n"
     ]
    }
   ],
   "source": [
    "c = ([1, 2, 3, 3, 1, 6, 8, 11, 10, 7])\n",
    "a = np.reshape(c, (5,2))\n",
    "print('Исходный массив:')\n",
    "print(a)\n",
    "print('Средние значения признаков:')\n",
    "mean_a = a.mean(axis=0)\n",
    "print(mean_a)"
   ]
  },
  {
   "cell_type": "code",
   "execution_count": null,
   "metadata": {},
   "outputs": [],
   "source": [
    "#Задание №2"
   ]
  },
  {
   "cell_type": "code",
   "execution_count": 34,
   "metadata": {},
   "outputs": [
    {
     "name": "stdout",
     "output_type": "stream",
     "text": [
      "[[-3.6 -3.8]\n",
      " [-1.6 -2.8]\n",
      " [-3.6  0.2]\n",
      " [ 3.4  5.2]\n",
      " [ 5.4  1.2]]\n"
     ]
    }
   ],
   "source": [
    "a_centered = np.subtract(a, mean_a)\n",
    "print(a_centered)"
   ]
  },
  {
   "cell_type": "code",
   "execution_count": null,
   "metadata": {},
   "outputs": [],
   "source": [
    "# Задание №3"
   ]
  },
  {
   "cell_type": "code",
   "execution_count": 5,
   "metadata": {},
   "outputs": [
    {
     "name": "stdout",
     "output_type": "stream",
     "text": [
      "Скалярное произведение столбцов массива a_centered равно: 41.6\n"
     ]
    }
   ],
   "source": [
    "a_centered_1 = ([-3.6, -1.6, -3.6, 3.4, 5.4])\n",
    "a_centered_2 = ([-3.8, -2.8, 0.2, 5.2, 1.2])\n",
    "a_centered_sp = np.dot(a_centered_1, a_centered_2)\n",
    "print(\"Скалярное произведение столбцов массива a_centered равно:\", a_centered_sp)\n",
    "#вычислим нормированное значение a_centered_sp/N\n",
    "n = 5\n",
    "a_centered_sp_norm = a_centered_sp / (n - 1)\n",
    "print(\"Нормированная величина a_centered_sp равна :\", a_centered_sp_norm)"
   ]
  }
 ],
 "metadata": {
  "kernelspec": {
   "display_name": "Python 3",
   "language": "python",
   "name": "python3"
  },
  "language_info": {
   "codemirror_mode": {
    "name": "ipython",
    "version": 3
   },
   "file_extension": ".py",
   "mimetype": "text/x-python",
   "name": "python",
   "nbconvert_exporter": "python",
   "pygments_lexer": "ipython3",
   "version": "3.8.5"
  }
 },
 "nbformat": 4,
 "nbformat_minor": 4
}
